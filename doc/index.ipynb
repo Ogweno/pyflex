{
 "metadata": {
  "name": "",
  "signature": "sha256:30626421f55313f8d19b9b9bc3ad5bb68f12fb43c77a471d67f5bcaa5e6343d5"
 },
 "nbformat": 3,
 "nbformat_minor": 0,
 "worksheets": [
  {
   "cells": [
    {
     "cell_type": "markdown",
     "metadata": {},
     "source": [
      "# Pyflex\n",
      "\n",
      "`Pyflex` is a Python port of the `FLEXWIN` algorithm for automatically selecting windows for seismic tomography. For the most part it mimicks the calculations of the original `FLEXWIN` package; minor differences and their reasoning are detailed later.\n",
      "\n",
      "To give credit where credit is due, the original `FLEXWIN` program can be downloaded [here](http://geodynamics.org/cig/software/flexwin/), the corresponding publication is\n",
      "\n",
      "\n",
      "> Maggi, A., Tape, C., Chen, M., Chao, D., & Tromp, J. (2009). **An automated time-window selection algorithm for seismic tomography.** *Geophysical Journal International*, 178(1), 257\u2013281 [doi:10.1111/j.1365-246X.2009.04099.x](http://dx.doi.org/10.1111/j.1365-246X.2009.04099.x)\n",
      "\n",
      "## Installation\n",
      "\n",
      "`Pyflex` utilized [ObsPy](http://obspy.org) (and some of its dependencies) for the processing and data handling. As a first step, please follow the [installation instructions of ObsPy](http://obspy.org) for your given platform (we recommend the installation with [Anaconda](http://anaconda.de) as it will most likely result in the least problems). `Pyflex` should work with Python version 2.6, 2.7, 3.3, and 3.4. To install it, best use `pip`:\n",
      "\n",
      "```bash\n",
      "$ pip install pyflex\n",
      "```\n",
      "\n",
      "If you want the latest development version, or want to work on the code, you will have to install with the help of `git`.\n",
      "\n",
      "```bash\n",
      "$ git clone https://github.com/krischer/pyflex.git\n",
      "$ cd pyflex\n",
      "$ pip install -v -e .\n",
      "```\n",
      "\n",
      "## Tests\n",
      "\n",
      "To assure the installation is valid and everything works as expected, run the tests with\n",
      "\n",
      "```bash\n",
      "$ python -m pyflex.tests\n",
      "```\n",
      "\n",
      "## Usage\n",
      "\n",
      "The first step is to import ObsPy and Pyflex."
     ]
    },
    {
     "cell_type": "code",
     "collapsed": false,
     "input": [
      "import obspy\n",
      "import pyflex"
     ],
     "language": "python",
     "metadata": {},
     "outputs": [],
     "prompt_number": null
    },
    {
     "cell_type": "markdown",
     "metadata": {},
     "source": [
      "`Pyflex` excepts both observed and synthetic data to already be fully processed. An easy way to accomplish is with ObsPy. This example reproduces what the original `FLEXWIN` package does when a it also performs the filtering."
     ]
    },
    {
     "cell_type": "code",
     "collapsed": false,
     "input": [
      "obs_data = obspy.read(\"../tests/data/1995.122.05.32.16.0000.II.ABKT.00.LHZ.D.SAC\")\n",
      "synth_data = obspy.read(\"../tests/data/ABKT.II.LHZ.semd.sac\")\n",
      "\n",
      "obs_data.detrend(\"linear\")\n",
      "obs_data.taper(max_percentage=0.05, type=\"hann\")\n",
      "obs_data.filter(\"bandpass\", freqmin=1.0 / 150.0, freqmax=1.0 / 50.0,\n",
      "                corners=4, zerophase=True)\n",
      "\n",
      "synth_data.detrend(\"linear\")\n",
      "synth_data.taper(max_percentage=0.05, type=\"hann\")\n",
      "synth_data.filter(\"bandpass\", freqmin=1.0 / 150.0, freqmax=1.0 / 50.0,\n",
      "                  corners=4, zerophase=True)"
     ],
     "language": "python",
     "metadata": {},
     "outputs": [],
     "prompt_number": null
    },
    {
     "cell_type": "raw",
     "metadata": {},
     "source": [
      "\n",
      "The configuration is encapsuled within a :class:`~pyflex.config.Config` object."
     ]
    },
    {
     "cell_type": "code",
     "collapsed": false,
     "input": [
      "config = pyflex.Config(\n",
      "    min_period=50.0,\n",
      "    max_period=150.0,\n",
      "    stalta_base=0.1,\n",
      "    tshift_base=15.0,\n",
      "    dlna_base=1.0,\n",
      "    cc_base=0.80,\n",
      "    c_0=0.7,\n",
      "    c_1=3.5,\n",
      "    c_2=0.0,\n",
      "    c_3a=1.0,\n",
      "    c_3b=2.0,\n",
      "    c_4a=3.0,\n",
      "    c_4b=10.0)\n",
      "\n",
      "windows = pyflex.select_windows(obs_data, synth_data, config, plot=True)"
     ],
     "language": "python",
     "metadata": {},
     "outputs": [],
     "prompt_number": null
    },
    {
     "cell_type": "markdown",
     "metadata": {},
     "source": [
      "## Logging\n",
      "\n",
      "By default, `Pyflex` is fairly quiet and will only raise Exceptions and warnings. If you want some more information about what is happening, hook into the logging facility."
     ]
    },
    {
     "cell_type": "code",
     "collapsed": false,
     "input": [
      "import logging\n",
      "logger = logging.getLogger(\"pyflex\")\n",
      "logger.setLevel(logging.DEBUG)\n",
      "\n",
      "windows = pyflex.select_windows(obs_data, synth_data, config)"
     ],
     "language": "python",
     "metadata": {},
     "outputs": [],
     "prompt_number": null
    },
    {
     "cell_type": "markdown",
     "metadata": {},
     "source": [
      "# API Documentation\n",
      "\n",
      "## Config"
     ]
    },
    {
     "cell_type": "raw",
     "metadata": {},
     "source": [
      "\n",
      ".. autoclass:: pyflex.config.Config"
     ]
    },
    {
     "cell_type": "code",
     "collapsed": false,
     "input": [],
     "language": "python",
     "metadata": {},
     "outputs": [],
     "prompt_number": null
    }
   ],
   "metadata": {}
  }
 ]
}