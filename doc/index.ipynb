{
 "metadata": {
  "name": "",
  "signature": "sha256:96ab4907082a1092260b7be4460cde8945669dcbf5abce3245849691b98516e3"
 },
 "nbformat": 3,
 "nbformat_minor": 0,
 "worksheets": [
  {
   "cells": [
    {
     "cell_type": "markdown",
     "metadata": {},
     "source": [
      "# Pyflex\n",
      "\n",
      "`Pyflex` is a Python port of the `FLEXWIN` algorithm for automatically selecting windows for seismic tomography. For the most part it mimicks the calculations of the original `FLEXWIN` package; minor differences and their reasoning are detailed later.\n",
      "\n",
      "To give credit where credit is due, the original `FLEXWIN` program can be downloaded [here](http://geodynamics.org/cig/software/flexwin/), the corresponding publication is\n",
      "\n",
      "\n",
      "> Maggi, A., Tape, C., Chen, M., Chao, D., & Tromp, J. (2009). **An automated time-window selection algorithm for seismic tomography.** *Geophysical Journal International*, 178(1), 257\u2013281 [doi:10.1111/j.1365-246X.2009.04099.x](http://dx.doi.org/10.1111/j.1365-246X.2009.04099.x)\n",
      "\n",
      "The source code for `Pyflex` lives on Github: https://github.com/krischer/pyflex. If you encounter any problems with it please open an issue or submit a pull request.\n",
      "\n",
      "## Installation\n",
      "\n",
      "`Pyflex` utilizes [ObsPy](http://obspy.org) (and some of its dependencies) for the processing and data handling. As a first step, please follow the [installation instructions of ObsPy](https://github.com/obspy/obspy/wiki#installation) for your given platform (we recommend the installation with [Anaconda](https://github.com/obspy/obspy/wiki/Installation-via-Anaconda) as it will most likely result in the least amount of problems). `Pyflex` should work with Python versions 2.6, 2.7, 3.3, and 3.4 (mainly depends on the used ObsPy version). To install it, best use `pip`:\n",
      "\n",
      "```bash\n",
      "$ pip install pyflex\n",
      "```\n",
      "\n",
      "If you want the latest development version, or want to work on the code, you will have to install with the help of `git`.\n",
      "\n",
      "```bash\n",
      "$ git clone https://github.com/krischer/pyflex.git\n",
      "$ cd pyflex\n",
      "$ pip install -v -e .\n",
      "```\n",
      "\n",
      "## Tests\n",
      "\n",
      "To assure the installation is valid and everything works as expected, run the tests with\n",
      "\n",
      "```bash\n",
      "$ python -m pyflex.tests\n",
      "```\n",
      "\n",
      "## Usage\n",
      "\n",
      "The first step is to import ObsPy and Pyflex."
     ]
    },
    {
     "cell_type": "code",
     "collapsed": false,
     "input": [
      "import obspy\n",
      "import pyflex"
     ],
     "language": "python",
     "metadata": {},
     "outputs": [],
     "prompt_number": 1
    },
    {
     "cell_type": "markdown",
     "metadata": {},
     "source": [
      "`Pyflex` expects both observed and synthetic data to already be fully processed. An easy way to accomplish this is to utilize ObsPy. This example reproduces what the original `FLEXWIN` package does when it is told to also perform the filtering."
     ]
    },
    {
     "cell_type": "code",
     "collapsed": false,
     "input": [
      "obs_data = obspy.read(\"../src/pyflex/tests/data/1995.122.05.32.16.0000.II.ABKT.00.LHZ.D.SAC\")\n",
      "synth_data = obspy.read(\"../src/pyflex/tests/data/ABKT.II.LHZ.semd.sac\")\n",
      "\n",
      "obs_data.detrend(\"linear\")\n",
      "obs_data.taper(max_percentage=0.05, type=\"hann\")\n",
      "obs_data.filter(\"bandpass\", freqmin=1.0 / 150.0, freqmax=1.0 / 50.0,\n",
      "                corners=4, zerophase=True)\n",
      "\n",
      "synth_data.detrend(\"linear\")\n",
      "synth_data.taper(max_percentage=0.05, type=\"hann\")\n",
      "synth_data.filter(\"bandpass\", freqmin=1.0 / 150.0, freqmax=1.0 / 50.0,\n",
      "                  corners=4, zerophase=True)"
     ],
     "language": "python",
     "metadata": {},
     "outputs": [
      {
       "metadata": {},
       "output_type": "pyout",
       "prompt_number": 2,
       "text": [
        "<obspy.core.stream.Stream at 0x10a4d1450>"
       ]
      }
     ],
     "prompt_number": 2
    },
    {
     "cell_type": "raw",
     "metadata": {},
     "source": [
      "\n",
      "The configuration is encapsuled within a :class:`~pyflex.config.Config` object. It thus replaces the need for a PAR_FILE and the user functions. Please refer to the :class:`~pyflex.config.Config` object's documentation for more details."
     ]
    },
    {
     "cell_type": "code",
     "collapsed": false,
     "input": [
      "config = pyflex.Config(\n",
      "    min_period=50.0, max_period=150.0,\n",
      "    stalta_waterlevel=0.08, tshift_acceptance_level=15.0,\n",
      "    dlna_acceptance_level=1.0, cc_acceptance_level=0.80,\n",
      "    c_0=0.7, c_1=4.0, c_2=0.0, c_3a=1.0, c_3b=2.0, c_4a=3.0, c_4b=10.0)"
     ],
     "language": "python",
     "metadata": {},
     "outputs": [],
     "prompt_number": 3
    },
    {
     "cell_type": "raw",
     "metadata": {},
     "source": [
      "\n",
      "Observed and synthetic waveforms can be passed as either ObsPy :class:`~obspy.core.trace.Trace` objects, or :class:`~obspy.core.stream.Stream` objects with one component. The optional ``plot`` parameter determines if a plot is produced or not. The :func:`~pyflex.flexwin.select_windows` function is the high level interface suitable for most users of ``Pyflex``. Please refer to its documentation for further details."
     ]
    },
    {
     "cell_type": "code",
     "collapsed": false,
     "input": [
      "windows = pyflex.select_windows(obs_data, synth_data, config, plot=True)"
     ],
     "language": "python",
     "metadata": {},
     "outputs": [],
     "prompt_number": 4
    },
    {
     "cell_type": "markdown",
     "metadata": {},
     "source": [
      "## Windows\n"
     ]
    },
    {
     "cell_type": "raw",
     "metadata": {},
     "source": [
      "\n",
      "It returns a sorted list of :class:`~pyflex.window.Window` objects which can then be used in further applications."
     ]
    },
    {
     "cell_type": "code",
     "collapsed": false,
     "input": [
      "import pprint\n",
      "pprint.pprint(windows[:3])"
     ],
     "language": "python",
     "metadata": {},
     "outputs": [
      {
       "output_type": "stream",
       "stream": "stdout",
       "text": [
        "[Window(left=1551, right=1985, center=1768, max_cc_value=0.957406293732, cc_shift=-3, dlnA=0.074690084389),\n",
        " Window(left=2221, right=2709, center=2465, max_cc_value=0.96646803652, cc_shift=0, dlnA=0.128079613768),\n",
        " Window(left=2709, right=2960, center=2834, max_cc_value=0.963357159788, cc_shift=-5, dlnA=-0.192769775674)]\n"
       ]
      }
     ],
     "prompt_number": 5
    },
    {
     "cell_type": "markdown",
     "metadata": {},
     "source": [
      "Each window contains a number of properties that can be used to calculate absolute and relative times for the specific window. `left` and `right` specify the boundary indices of a window,  `absolute_starttime` and `absolute_endtime` are the absolute times of a window's bounds as ObsPy UTCDateTime objects, and `relative_starttime` and `relative_endtime` are the bounds of a window in seconds since the first sample of the data arrays (not necessarily identical to the event origin time!)."
     ]
    },
    {
     "cell_type": "code",
     "collapsed": false,
     "input": [
      "win = windows[4]\n",
      "print(\"Indices: %s - %s\" % (win.left, win.right))\n",
      "print(\"Absolute times: %s - %s\" % (win.absolute_starttime, win.absolute_endtime))\n",
      "print(\"Relative times in seconds: %s - %s\" % (win.relative_starttime,\n",
      "                                              win.relative_endtime))"
     ],
     "language": "python",
     "metadata": {},
     "outputs": [
      {
       "output_type": "stream",
       "stream": "stdout",
       "text": [
        "Indices: 3353 - 3609\n",
        "Absolute times: 1995-05-02T06:53:46.500006Z - 1995-05-02T06:58:02.500006Z\n",
        "Relative times in seconds: 3353.0 - 3609.0\n"
       ]
      }
     ],
     "prompt_number": 6
    },
    {
     "cell_type": "markdown",
     "metadata": {},
     "source": [
      "A window furthermore contains a list of phases theoretically arriving within the window. Take care that the times here are in seconds since the event origin."
     ]
    },
    {
     "cell_type": "code",
     "collapsed": false,
     "input": [
      "win.phase_arrivals"
     ],
     "language": "python",
     "metadata": {},
     "outputs": [
      {
       "metadata": {},
       "output_type": "pyout",
       "prompt_number": 7,
       "text": [
        "[{u'd2T/dD2': -0.008985511,\n",
        "  u'dT/dD': -3.7036695,\n",
        "  u'dT/dh': -0.21970677,\n",
        "  u'phase_name': u\"S'S'ac\",\n",
        "  u'take-off angle': 8.7734709,\n",
        "  u'time': 3049.9629},\n",
        " {u'd2T/dD2': -0.21710481,\n",
        "  u'dT/dD': -1.9104689,\n",
        "  u'dT/dh': -0.22161883,\n",
        "  u'phase_name': u\"S'S'df\",\n",
        "  u'take-off angle': 4.5126305,\n",
        "  u'time': 3091.7417}]"
       ]
      }
     ],
     "prompt_number": 7
    },
    {
     "cell_type": "markdown",
     "metadata": {},
     "source": [
      "## Event and Station Information\n",
      "\n",
      "While `Pyflex` can also operate without any event and station information, it needs some information to work at full efficiency. In case the waveform traces originate from SAC files, they might contain the necessary information. `Pyflex` is able to extract that information but this should really be seen as a last resort.\n",
      "\n",
      "The easiest way to pass the necessary information to `Pyflex` is to use its very bare bones event and station objects."
     ]
    },
    {
     "cell_type": "code",
     "collapsed": false,
     "input": [
      "event = pyflex.Event(latitude=12.0, longitude=-11.2, depth_in_m=12800,\n",
      "                     origin_time=obspy.UTCDateTime(2014, 2, 4))\n",
      "station = pyflex.Station(latitude=48.0, longitude=20.0)\n",
      "\n",
      "windows = pyflex.select_windows(obs_data, synth_data, config,\n",
      "                                event=event, station=station)"
     ],
     "language": "python",
     "metadata": {},
     "outputs": [],
     "prompt_number": 8
    },
    {
     "cell_type": "raw",
     "metadata": {},
     "source": [
      "\n",
      "A more powerful approach enabling the construction of cleaner workflows is to pass ObsPy objects. Event information can be passed as ObsPy :class:`~obspy.core.event.Catalog` or :class:`~obspy.core.event.Event` objects. Station information on the other hand can be passed as an :class:`~obspy.station.inventory.Inventory` object. This enables the acquisition of this information directly from web services or QuakeML/StationXML files on dics. Please refer to the ObsPy documentation for more details.\n",
      "\n",
      ".. code-block:: python\n",
      "\n",
      "    event = obspy.readEvents(\"../events/event_1.xml\")\n",
      "    station = obspy.read_inventory(\"../stations/II_ABKT.xml\")\n",
      "    windows = pyflex.select_windows(obs_data, synth_data, config,\n",
      "                                    event=event, station=station)\n"
     ]
    },
    {
     "cell_type": "markdown",
     "metadata": {},
     "source": [
      "## Difference to the original FLEXWIN algorithm\n",
      "\n",
      "`Pyflex` largely follows the original `FLEXWIN` algorithm. The major differences are outlined here.\n",
      "\n",
      "* The found local extrema of the STA/LTA functional might differ a bit. In case of a \"flat\" extrema, `Pyflex` will always find the leftmost index.\n",
      "* The order of rejection stages has been changed a bit to assure cheaper eliminations are run first. This results in a significant speed boost.\n",
      "* The water/acceptance level of the data fit criteria is now evaluated at the center of each windows and not at the central peak.\n",
      "* The Config object has a `min_surface_wave_velocity` parameter which can be used to easily discard windows for late arriving surface/coda waves.\n",
      "\n",
      "### Overlap Resolution Strategy\n",
      "\n",
      "Instead of using the overlap resolution strategy outlined in section **2.5 Stage E** in the `FLEXWIN` paper, `Pyflex` utilizes weighted interval scheduling which is a classical IT problem. The weighted interval scheduling algorithm finds the best possible subset of non-overlapping windows by maximizing the cumulative weight of all chosen windows. By default the weight of each window is its length in terms of minimum period of the data times the maximum cross correlation coefficient. The weighting function can be overwritten with the help of the Config object. This results in similar windows to the original `FLEXWIN` algorithm but is easier to reason about.\n",
      "\n",
      "`Pyflex` furthermore offers the option to merge all good candidate windows. This is useful for some misfit measurements."
     ]
    },
    {
     "cell_type": "code",
     "collapsed": false,
     "input": [
      "config = pyflex.Config(\n",
      "    min_period=50.0, max_period=150.0,\n",
      "    stalta_waterlevel=0.08, tshift_acceptance_level=15.0,\n",
      "    dlna_acceptance_level=1.0, cc_acceptance_level=0.80,\n",
      "    c_0=0.7, c_1=4.0, c_2=0.0, c_3a=1.0, c_3b=2.0, c_4a=3.0, c_4b=10.0,\n",
      "    resolution_strategy=\"merge\")\n",
      "windows = pyflex.select_windows(obs_data, synth_data, config, plot=True)"
     ],
     "language": "python",
     "metadata": {},
     "outputs": [],
     "prompt_number": 9
    },
    {
     "cell_type": "markdown",
     "metadata": {},
     "source": [
      "## Logging\n",
      "\n",
      "By default, `Pyflex` is fairly quiet and will only raise exceptions and warnings in case they occur. `Pyflex` utilizes Python's [logging facilities](https://docs.python.org/2/library/logging.html) so if you want more information you can hook into them. This approach is very flexible as it allows you to install custom logging handlers and channels."
     ]
    },
    {
     "cell_type": "code",
     "collapsed": false,
     "input": [
      "import logging\n",
      "logger = logging.getLogger(\"pyflex\")\n",
      "logger.setLevel(logging.DEBUG)\n",
      "\n",
      "windows = pyflex.select_windows(obs_data, synth_data, config)"
     ],
     "language": "python",
     "metadata": {},
     "outputs": [
      {
       "output_type": "stream",
       "stream": "stderr",
       "text": [
        "[2014-11-10 09:56:42,422] - pyflex - INFO: Extracted station information from observed SAC file.\n"
       ]
      },
      {
       "output_type": "stream",
       "stream": "stderr",
       "text": [
        "[2014-11-10 09:56:42,422] - pyflex - INFO: Extracted event information from observed SAC file.\n"
       ]
      },
      {
       "output_type": "stream",
       "stream": "stderr",
       "text": [
        "[2014-11-10 09:56:42,426] - pyflex - INFO: Calculating envelope of synthetics.\n"
       ]
      },
      {
       "output_type": "stream",
       "stream": "stderr",
       "text": [
        "[2014-11-10 09:56:42,429] - pyflex - INFO: Calculating STA/LTA.\n"
       ]
      },
      {
       "output_type": "stream",
       "stream": "stderr",
       "text": [
        "[2014-11-10 09:56:42,598] - pyflex - INFO: Initial window selection yielded 3348 possible windows.\n"
       ]
      },
      {
       "output_type": "stream",
       "stream": "stderr",
       "text": [
        "[2014-11-10 09:56:42,600] - pyflex - INFO: Calculated travel times.\n"
       ]
      },
      {
       "output_type": "stream",
       "stream": "stderr",
       "text": [
        "[2014-11-10 09:56:42,606] - pyflex - INFO: Rejection based on travel times retained 3271 windows.\n"
       ]
      },
      {
       "output_type": "stream",
       "stream": "stderr",
       "text": [
        "[2014-11-10 09:56:42,626] - pyflex - INFO: Rejection based on minimum window length retained 3257 windows.\n"
       ]
      },
      {
       "output_type": "stream",
       "stream": "stderr",
       "text": [
        "[2014-11-10 09:56:42,693] - pyflex - INFO: Water level rejection retained 39 windows\n"
       ]
      },
      {
       "output_type": "stream",
       "stream": "stderr",
       "text": [
        "[2014-11-10 09:56:42,695] - pyflex - INFO: Single phase group rejection retained 14 windows\n"
       ]
      },
      {
       "output_type": "stream",
       "stream": "stderr",
       "text": [
        "[2014-11-10 09:56:42,696] - pyflex - INFO: Removing duplicates retains 14 windows.\n"
       ]
      },
      {
       "output_type": "stream",
       "stream": "stderr",
       "text": [
        "[2014-11-10 09:56:42,697] - pyflex - INFO: Rejection based on minimum window length retained 14 windows.\n"
       ]
      },
      {
       "output_type": "stream",
       "stream": "stderr",
       "text": [
        "[2014-11-10 09:56:42,697] - pyflex - INFO: SN amplitude ratio window rejection retained 12 windows\n"
       ]
      },
      {
       "output_type": "stream",
       "stream": "stderr",
       "text": [
        "[2014-11-10 09:56:42,699] - pyflex - INFO: Rejection based on data fit criteria retained 12 windows.\n"
       ]
      },
      {
       "output_type": "stream",
       "stream": "stderr",
       "text": [
        "[2014-11-10 09:56:42,702] - pyflex - INFO: Merging windows resulted in 3 windows.\n"
       ]
      }
     ],
     "prompt_number": 10
    },
    {
     "cell_type": "markdown",
     "metadata": {},
     "source": [
      "# API Documentation\n",
      "\n",
      "This section documents the most used functions and classes. For more details you can always have a look at the code.\n",
      "\n",
      "## Config Object"
     ]
    },
    {
     "cell_type": "raw",
     "metadata": {},
     "source": [
      "\n",
      ".. autoclass:: pyflex.config.Config"
     ]
    },
    {
     "cell_type": "markdown",
     "metadata": {},
     "source": [
      "## Main select_windows() function"
     ]
    },
    {
     "cell_type": "raw",
     "metadata": {},
     "source": [
      "\n",
      ".. autofunction:: pyflex.flexwin.select_windows"
     ]
    },
    {
     "cell_type": "markdown",
     "metadata": {},
     "source": [
      "## The Window Object\n",
      "\n",
      "`Pyflex` internally utilizes a window class for candidates and final windows, the `select_windows()` function will return a list of these."
     ]
    },
    {
     "cell_type": "raw",
     "metadata": {},
     "source": [
      "\n",
      ".. autoclass:: pyflex.window.Window\n",
      "    :members:\n"
     ]
    },
    {
     "cell_type": "markdown",
     "metadata": {},
     "source": [
      "## Helper Objects\n",
      "\n",
      "These are simple helper objects giving the capability of specifying event and station information without having to resort to full blown ObsPy objects (altough this is also supported and likely results in a cleaner workflow)."
     ]
    },
    {
     "cell_type": "raw",
     "metadata": {},
     "source": [
      "\n",
      ".. autoclass:: pyflex.Event\n",
      "\n",
      ".. autoclass:: pyflex.Station"
     ]
    },
    {
     "cell_type": "markdown",
     "metadata": {},
     "source": [
      "## Exceptions and Warnings\n",
      "\n",
      "Right now error handling is very simple and handled by these two types."
     ]
    },
    {
     "cell_type": "raw",
     "metadata": {},
     "source": [
      "\n",
      ".. autoclass:: pyflex.PyflexError\n",
      "\n",
      ".. autoclass:: pyflex.PyflexWarning"
     ]
    },
    {
     "cell_type": "markdown",
     "metadata": {},
     "source": [
      "## Low-level WindowSelector Class\n"
     ]
    },
    {
     "cell_type": "raw",
     "metadata": {},
     "source": [
      "\n",
      "For most purposes, the :func:`~pyflex.flexwin.select_windows` function it the better choice, but this might be useful in some more advanced cases.\n",
      "\n",
      ".. autoclass:: pyflex.window_selector.WindowSelector\n",
      "    :members:"
     ]
    },
    {
     "cell_type": "markdown",
     "metadata": {},
     "source": [
      "## Misc Functionality"
     ]
    },
    {
     "cell_type": "raw",
     "metadata": {},
     "source": [
      "\n",
      ".. autofunction:: pyflex.interval_scheduling.schedule_weighted_intervals\n",
      "\n",
      ".. autofunction:: pyflex.utils.find_local_extrema\n",
      "\n",
      ".. autofunction:: pyflex.stalta.sta_lta"
     ]
    }
   ],
   "metadata": {}
  }
 ]
}