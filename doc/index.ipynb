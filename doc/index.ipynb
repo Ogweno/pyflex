{
 "metadata": {
  "name": "",
  "signature": "sha256:f79fe2cc5ba755d389530ebd2eb0f8e0619d80012fcb08b2b0da41302d181c2b"
 },
 "nbformat": 3,
 "nbformat_minor": 0,
 "worksheets": [
  {
   "cells": [
    {
     "cell_type": "markdown",
     "metadata": {},
     "source": [
      "# Pyflex\n",
      "\n",
      "`Pyflex` is a Python port of the `FLEXWIN` algorithm for automatically selecting windows for seismic tomography. For the most part it mimicks the calculations of the original `FLEXWIN` package; minor differences and their reasoning are detailed later.\n",
      "\n",
      "To give credit where credit is due, the original `FLEXWIN` program can be downloaded [here](http://geodynamics.org/cig/software/flexwin/), the corresponding publication is\n",
      "\n",
      "\n",
      "> Maggi, A., Tape, C., Chen, M., Chao, D., & Tromp, J. (2009). **An automated time-window selection algorithm for seismic tomography.** *Geophysical Journal International*, 178(1), 257\u2013281 [doi:10.1111/j.1365-246X.2009.04099.x](http://dx.doi.org/10.1111/j.1365-246X.2009.04099.x)\n",
      "\n",
      "## Installation\n",
      "\n",
      "`Pyflex` utilizes [ObsPy](http://obspy.org) (and some of its dependencies) for the processing and data handling. As a first step, please follow the [installation instructions of ObsPy](https://github.com/obspy/obspy/wiki#installation) for your given platform (we recommend the installation with [Anaconda](https://github.com/obspy/obspy/wiki/Installation-via-Anaconda) as it will most likely result in the least amount problems). `Pyflex` should work with Python versions 2.6, 2.7, 3.3, and 3.4. To install it, best use `pip`:\n",
      "\n",
      "```bash\n",
      "$ pip install pyflex\n",
      "```\n",
      "\n",
      "If you want the latest development version, or want to work on the code, you will have to install with the help of `git`.\n",
      "\n",
      "```bash\n",
      "$ git clone https://github.com/krischer/pyflex.git\n",
      "$ cd pyflex\n",
      "$ pip install -v -e .\n",
      "```\n",
      "\n",
      "## Tests\n",
      "\n",
      "To assure the installation is valid and everything works as expected, run the tests with\n",
      "\n",
      "```bash\n",
      "$ python -m pyflex.tests\n",
      "```\n",
      "\n",
      "## Usage\n",
      "\n",
      "The first step is to import ObsPy and Pyflex."
     ]
    },
    {
     "cell_type": "code",
     "collapsed": false,
     "input": [
      "import obspy\n",
      "import pyflex"
     ],
     "language": "python",
     "metadata": {},
     "outputs": [],
     "prompt_number": null
    },
    {
     "cell_type": "markdown",
     "metadata": {},
     "source": [
      "`Pyflex` expects both observed and synthetic data to already be fully processed. An easy way to accomplish this is to utilize ObsPy. This example reproduces what the original `FLEXWIN` package does when it is told to also perform the filtering."
     ]
    },
    {
     "cell_type": "code",
     "collapsed": false,
     "input": [
      "obs_data = obspy.read(\"../tests/data/1995.122.05.32.16.0000.II.ABKT.00.LHZ.D.SAC\")\n",
      "synth_data = obspy.read(\"../tests/data/ABKT.II.LHZ.semd.sac\")\n",
      "\n",
      "obs_data.detrend(\"linear\")\n",
      "obs_data.taper(max_percentage=0.05, type=\"hann\")\n",
      "obs_data.filter(\"bandpass\", freqmin=1.0 / 150.0, freqmax=1.0 / 50.0,\n",
      "                corners=4, zerophase=True)\n",
      "\n",
      "synth_data.detrend(\"linear\")\n",
      "synth_data.taper(max_percentage=0.05, type=\"hann\")\n",
      "synth_data.filter(\"bandpass\", freqmin=1.0 / 150.0, freqmax=1.0 / 50.0,\n",
      "                  corners=4, zerophase=True)"
     ],
     "language": "python",
     "metadata": {},
     "outputs": [],
     "prompt_number": null
    },
    {
     "cell_type": "raw",
     "metadata": {},
     "source": [
      "\n",
      "The configuration is encapsuled within a :class:`~pyflex.config.Config` object. It thus replaces the need for a PAR_FILE and the user functions. Please refer to the :class:`~pyflex.config.Config` object's documentation for more details."
     ]
    },
    {
     "cell_type": "code",
     "collapsed": false,
     "input": [
      "config = pyflex.Config(\n",
      "    min_period=50.0, max_period=150.0,\n",
      "    stalta_base=0.1, tshift_base=15.0, dlna_base=1.0, cc_base=0.80,\n",
      "    c_0=0.7, c_1=3.5, c_2=0.0, c_3a=1.0, c_3b=2.0, c_4a=3.0, c_4b=10.0)"
     ],
     "language": "python",
     "metadata": {},
     "outputs": [],
     "prompt_number": null
    },
    {
     "cell_type": "raw",
     "metadata": {},
     "source": [
      "\n",
      "Observed and synthetic waveforms can be passed as either ObsPy :class:`~obspy.core.trace.Trace` objects, or :class:`~obspy.core.stream.Stream` objects with one component. The optional ``plot`` parameter determines if a plot is produced or not. The :func:`~pyflex.flexwin.select_windows` function is the high level interface suitable for most users of ``Pyflex``. Please refer to its documentation for further details."
     ]
    },
    {
     "cell_type": "code",
     "collapsed": false,
     "input": [
      "windows = pyflex.select_windows(obs_data, synth_data, config, plot=True)"
     ],
     "language": "python",
     "metadata": {},
     "outputs": [],
     "prompt_number": null
    },
    {
     "cell_type": "markdown",
     "metadata": {},
     "source": [
      "It returns a sorted list of windows which can then be used in further applications."
     ]
    },
    {
     "cell_type": "code",
     "collapsed": false,
     "input": [
      "import pprint\n",
      "pprint.pprint(windows)"
     ],
     "language": "python",
     "metadata": {},
     "outputs": [],
     "prompt_number": null
    },
    {
     "cell_type": "markdown",
     "metadata": {},
     "source": [
      "## Logging\n",
      "\n",
      "By default, `Pyflex` is fairly quiet and will only raise exceptions and warnings in case they occur. `Pyflex` utilizes Python's [logging facilities](https://docs.python.org/2/library/logging.html) so if you want more information you can hook into them. This approach is very flexible as it allows you to install custom logging handlers and channels."
     ]
    },
    {
     "cell_type": "code",
     "collapsed": false,
     "input": [
      "import logging\n",
      "logger = logging.getLogger(\"pyflex\")\n",
      "logger.setLevel(logging.DEBUG)\n",
      "\n",
      "windows = pyflex.select_windows(obs_data, synth_data, config)"
     ],
     "language": "python",
     "metadata": {},
     "outputs": [],
     "prompt_number": null
    },
    {
     "cell_type": "markdown",
     "metadata": {},
     "source": [
      "# API Documentation\n",
      "\n",
      "## Config Object"
     ]
    },
    {
     "cell_type": "raw",
     "metadata": {},
     "source": [
      "\n",
      ".. autoclass:: pyflex.config.Config"
     ]
    },
    {
     "cell_type": "markdown",
     "metadata": {},
     "source": [
      "## Main select_windows() function"
     ]
    },
    {
     "cell_type": "raw",
     "metadata": {},
     "source": [
      "\n",
      ".. autofunction:: pyflex.flexwin.select_windows"
     ]
    },
    {
     "cell_type": "markdown",
     "metadata": {},
     "source": [
      "## The Window Object\n",
      "\n",
      "`Pyflex` internally utilizes a windows class, the `select_windows()` function will return a list of these."
     ]
    },
    {
     "cell_type": "raw",
     "metadata": {},
     "source": [
      "\n",
      ".. autoclass:: pyflex.window.Window\n",
      "    :members:\n"
     ]
    },
    {
     "cell_type": "markdown",
     "metadata": {},
     "source": [
      "## Helper Objects\n",
      "\n",
      "These are simple helper objects giving the capability of specifying event and station information without having to resort to full blown ObsPy objects (altough this is also supported and likely results in a cleaner workflow)."
     ]
    },
    {
     "cell_type": "raw",
     "metadata": {},
     "source": [
      "\n",
      ".. autoclass:: pyflex.Event\n",
      "\n",
      ".. autoclass:: pyflex.Station"
     ]
    }
   ],
   "metadata": {}
  }
 ]
}